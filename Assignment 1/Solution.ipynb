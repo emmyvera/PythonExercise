{
 "cells": [
  {
   "cell_type": "code",
   "execution_count": 44,
   "metadata": {},
   "outputs": [],
   "source": [
    "# Question One\n",
    "def evenOrOddRange(N):\n",
    "    '''\n",
    "    Takes a number and check if the number is even or odd\n",
    "    '''\n",
    "    \n",
    "    if N%2 == 0:\n",
    "        print(f'{N} is a Even Number!')\n",
    "        if N in range(2,20):\n",
    "            print(f'{N} is within 2 to 20!')\n",
    "    else:\n",
    "        print(f'{N} is a Odd number!')\n",
    "        if N in range(3,30):\n",
    "            print(f'{N} is within 3 to 30!')"
   ]
  },
  {
   "cell_type": "code",
   "execution_count": 48,
   "metadata": {},
   "outputs": [
    {
     "name": "stdout",
     "output_type": "stream",
     "text": [
      "User Please Input a Number\n",
      "37\n",
      "37 is a Odd number!\n"
     ]
    }
   ],
   "source": [
    "print('User Please Input a Number')\n",
    "number = int(input())\n",
    "evenOrOddRange(number)"
   ]
  },
  {
   "cell_type": "code",
   "execution_count": 28,
   "metadata": {},
   "outputs": [],
   "source": [
    "# Question 2\n",
    "def check_leap_year(year):\n",
    "    '''\n",
    "    This function checks if the year input is a leap year or not\n",
    "    '''\n",
    "    if year%4 == 0:\n",
    "        print(f'{year} is a leap year!')\n",
    "        return True\n",
    "    else:\n",
    "        print(f'{year} is not a leap year!')\n",
    "        return False"
   ]
  },
  {
   "cell_type": "code",
   "execution_count": 40,
   "metadata": {},
   "outputs": [
    {
     "name": "stdout",
     "output_type": "stream",
     "text": [
      "User Please Input a Valid Year\n",
      "2022\n",
      "2022 is not a leap year!\n"
     ]
    },
    {
     "data": {
      "text/plain": [
       "False"
      ]
     },
     "execution_count": 40,
     "metadata": {},
     "output_type": "execute_result"
    }
   ],
   "source": [
    "print('User Please Input a Valid Year')\n",
    "year = int(input())\n",
    "check_leap_year(year)"
   ]
  },
  {
   "cell_type": "code",
   "execution_count": 41,
   "metadata": {},
   "outputs": [],
   "source": [
    "# Question 3\n",
    "def attendance(present, absent):\n",
    "    total = (present/(present+absent)) * 100\n",
    "    \n",
    "    if total >= 75:\n",
    "        print('You are eligible to write the test')\n",
    "        return True\n",
    "    else:\n",
    "        print('You are ineligible to write the test')\n",
    "        return False"
   ]
  },
  {
   "cell_type": "code",
   "execution_count": 43,
   "metadata": {},
   "outputs": [
    {
     "name": "stdout",
     "output_type": "stream",
     "text": [
      "User How many times did you come to class\n",
      "2\n",
      "User How many times did you miss class\n",
      "10\n",
      "You are ineligible to write the test\n"
     ]
    },
    {
     "data": {
      "text/plain": [
       "False"
      ]
     },
     "execution_count": 43,
     "metadata": {},
     "output_type": "execute_result"
    }
   ],
   "source": [
    "print('User How many times did you come to class')\n",
    "present = int(input())\n",
    "print('User How many times did you miss class')\n",
    "absent = int(input())\n",
    "attendance(present, absent)"
   ]
  },
  {
   "cell_type": "code",
   "execution_count": null,
   "metadata": {},
   "outputs": [],
   "source": []
  }
 ],
 "metadata": {
  "kernelspec": {
   "display_name": "Python 3",
   "language": "python",
   "name": "python3"
  },
  "language_info": {
   "codemirror_mode": {
    "name": "ipython",
    "version": 3
   },
   "file_extension": ".py",
   "mimetype": "text/x-python",
   "name": "python",
   "nbconvert_exporter": "python",
   "pygments_lexer": "ipython3",
   "version": "3.7.0"
  }
 },
 "nbformat": 4,
 "nbformat_minor": 2
}
